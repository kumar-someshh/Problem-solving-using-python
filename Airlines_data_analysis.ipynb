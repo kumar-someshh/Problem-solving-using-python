{
  "nbformat": 4,
  "nbformat_minor": 0,
  "metadata": {
    "colab": {
      "provenance": []
    },
    "kernelspec": {
      "name": "python3",
      "display_name": "Python 3"
    },
    "language_info": {
      "name": "python"
    }
  },
  "cells": [
    {
      "cell_type": "code",
      "execution_count": 1,
      "metadata": {
        "id": "KIFsIyLVMYNW"
      },
      "outputs": [],
      "source": [
        "import pandas as pd\n",
        "import numpy as np\n",
        "import matplotlib.pyplot as plt\n",
        "\n"
      ]
    },
    {
      "cell_type": "code",
      "source": [
        "df=pd.read_csv(\"/content/drive/MyDrive/Colab Notebooks/Airlines_data.csv\")\n",
        "print(df.sample(3))\n",
        "df.info()"
      ],
      "metadata": {
        "colab": {
          "base_uri": "https://localhost:8080/"
        },
        "id": "Pjh3Hbk3NKOK",
        "outputId": "6d3f3d69-51d1-440f-8148-d930651efefe"
      },
      "execution_count": 3,
      "outputs": [
        {
          "output_type": "stream",
          "name": "stdout",
          "text": [
            "                Airline    Source Destination            Route Dep_Time  \\\n",
            "197   Multiple carriers     Delhi      Cochin  DEL → BOM → COK    06:40   \n",
            "6460             IndiGo  Banglore       Delhi        BLR → DEL    18:25   \n",
            "4722        Jet Airways  Banglore      Cochin        BLR → DEL    11:40   \n",
            "\n",
            "     Arrival_Time Duration Total_Stops Additional_Info  Price  Month  \\\n",
            "197         19:15  12h 35m      1 stop         No info   9100      3   \n",
            "6460        21:20   2h 55m    non-stop         No info   4823      5   \n",
            "4722        22:50   7h 20m    non-stop         No info   3502      4   \n",
            "\n",
            "        WeekDay   Day  \n",
            "197   Wednesday  27.0  \n",
            "6460     Sunday  12.0  \n",
            "4722    Tuesday   9.0  \n",
            "<class 'pandas.core.frame.DataFrame'>\n",
            "RangeIndex: 9450 entries, 0 to 9449\n",
            "Data columns (total 13 columns):\n",
            " #   Column           Non-Null Count  Dtype  \n",
            "---  ------           --------------  -----  \n",
            " 0   Airline          9450 non-null   object \n",
            " 1   Source           9450 non-null   object \n",
            " 2   Destination      9450 non-null   object \n",
            " 3   Route            9449 non-null   object \n",
            " 4   Dep_Time         9450 non-null   object \n",
            " 5   Arrival_Time     9450 non-null   object \n",
            " 6   Duration         9450 non-null   object \n",
            " 7   Total_Stops      9250 non-null   object \n",
            " 8   Additional_Info  9450 non-null   object \n",
            " 9   Price            9450 non-null   int64  \n",
            " 10  Month            9450 non-null   int64  \n",
            " 11  WeekDay          9450 non-null   object \n",
            " 12  Day              9214 non-null   float64\n",
            "dtypes: float64(1), int64(2), object(10)\n",
            "memory usage: 959.9+ KB\n"
          ]
        }
      ]
    },
    {
      "cell_type": "markdown",
      "source": [
        " # ``Answer the following Quesitons``\n"
      ],
      "metadata": {
        "id": "eCnU0OLRNRSM"
      }
    },
    {
      "cell_type": "markdown",
      "source": [
        "**Q1**\n",
        "What is the average of the flight ticket price? Write your answer correct to two decimal places."
      ],
      "metadata": {
        "id": "I9rxfy9qNoYm"
      }
    },
    {
      "cell_type": "code",
      "source": [
        "mean_price= df[\"Price\"].mean()\n",
        "type(mean_price)\n",
        "# print(mean_price.round(3))\n",
        "str(np.round(mean_price,2))\n",
        "\n",
        "# second decimal place is zero, that's why it's not showing, you have to change the formatting if you want to see."
      ],
      "metadata": {
        "colab": {
          "base_uri": "https://localhost:8080/",
          "height": 35
        },
        "id": "eCOME0FyOOPd",
        "outputId": "ef4b0cda-0c34-40ba-e6ef-39febb674b8a"
      },
      "execution_count": null,
      "outputs": [
        {
          "output_type": "execute_result",
          "data": {
            "text/plain": [
              "'9027.9'"
            ],
            "application/vnd.google.colaboratory.intrinsic+json": {
              "type": "string"
            }
          },
          "metadata": {},
          "execution_count": 32
        }
      ]
    },
    {
      "cell_type": "code",
      "source": [
        "help(np.around)"
      ],
      "metadata": {
        "colab": {
          "base_uri": "https://localhost:8080/"
        },
        "id": "6Kw9XvzP9nmm",
        "outputId": "adaff224-381b-4fea-c70d-5bd92b1bc86d"
      },
      "execution_count": null,
      "outputs": [
        {
          "output_type": "stream",
          "name": "stdout",
          "text": [
            "Help on _ArrayFunctionDispatcher in module numpy:\n",
            "\n",
            "around(a, decimals=0, out=None)\n",
            "    Round an array to the given number of decimals.\n",
            "    \n",
            "    `around` is an alias of `~numpy.round`.\n",
            "    \n",
            "    See Also\n",
            "    --------\n",
            "    ndarray.round : equivalent method\n",
            "    round : alias for this function\n",
            "    ceil, fix, floor, rint, trunc\n",
            "\n"
          ]
        }
      ]
    },
    {
      "cell_type": "markdown",
      "source": [
        "**Q2**\n",
        "During which month did the highest number of flights occur? Months are represented by numerical codes, with January corresponding to 1, February to 2, and so forth."
      ],
      "metadata": {
        "id": "q8qGTv0qOfT8"
      }
    },
    {
      "cell_type": "code",
      "source": [
        "highest_flight= df.groupby([\"Month\"])[\"Route\"].count( )\n",
        "print(highest_flight)\n",
        "# it's month of MAY\n"
      ],
      "metadata": {
        "colab": {
          "base_uri": "https://localhost:8080/"
        },
        "id": "ZXco4pOMPXXo",
        "outputId": "da219bab-2557-4478-ffc8-51aeefcdcaf4"
      },
      "execution_count": null,
      "outputs": [
        {
          "output_type": "stream",
          "name": "stdout",
          "text": [
            "Month\n",
            "3    2388\n",
            "4     926\n",
            "5    3091\n",
            "6    3044\n",
            "Name: Route, dtype: int64\n"
          ]
        }
      ]
    },
    {
      "cell_type": "markdown",
      "source": [
        "**Q3** Is the average price of flight tickets higher on weekends (Saturday and Sunday) or on weekdays (Remaining 5 days)?"
      ],
      "metadata": {
        "id": "gcNbYMwIPsNG"
      }
    },
    {
      "cell_type": "code",
      "source": [
        "subset=df.groupby([\"WeekDay\"])[\"Price\"].mean().sort_values()\n",
        "weekend_avg= subset.loc[[\"Saturday\",\"Sunday\"]].mean()\n",
        "weekdays_avg= subset.loc[[\"Monday\",\"Tuesday\",\"Thursday\",\"Friday\"]].mean()\n",
        "print(\"Weekend average price:\", weekend_avg)\n",
        "print(\"Weekday average price:\", weekdays_avg)\n",
        "\n",
        "#weekend average price for flights is higher than weekday.\n"
      ],
      "metadata": {
        "colab": {
          "base_uri": "https://localhost:8080/"
        },
        "id": "8-xGc4dv7_5W",
        "outputId": "59afc09e-b01b-4ae1-d8a8-4186d8ed96d0"
      },
      "execution_count": null,
      "outputs": [
        {
          "output_type": "stream",
          "name": "stdout",
          "text": [
            "Weekend average price: 9079.055885022131\n",
            "Weekday average price: 9021.21820924395\n"
          ]
        }
      ]
    },
    {
      "cell_type": "markdown",
      "source": [
        "**Q4** Two of the entries in the 'Additional_Info' column are 'No info' and 'No Info'. Replace all occurrences of 'No info' with 'None'. How many flights fall under airline 'IndiGo' and have 'None' as additional information?"
      ],
      "metadata": {
        "id": "aKz0lzFYSi3k"
      }
    },
    {
      "cell_type": "code",
      "source": [
        "# df[\"Additional_Info\"].str.strip()\n",
        "df[\"Additional_Info\"].replace([\"No info\", \"No Info\"], \"None\", inplace= True)\n",
        "((df[\"Airline\"]==\"IndiGo\") & (df[\"Additional_Info\"]==\"None\")).value_counts()\n",
        "\n"
      ],
      "metadata": {
        "colab": {
          "base_uri": "https://localhost:8080/"
        },
        "id": "c_-DgSLsEKMo",
        "outputId": "8e122f49-d3db-4fe3-a771-f640318f234a"
      },
      "execution_count": null,
      "outputs": [
        {
          "output_type": "execute_result",
          "data": {
            "text/plain": [
              "False    7800\n",
              "True     1650\n",
              "dtype: int64"
            ]
          },
          "metadata": {},
          "execution_count": 43
        }
      ]
    },
    {
      "cell_type": "markdown",
      "source": [
        "\n",
        "**Q5** Convert the values of 'Duration' into seconds. Enter the average duration (in seconds) of a flight. Enter your answer correct to two decimal places."
      ],
      "metadata": {
        "id": "P0fzZh5USqci"
      }
    },
    {
      "cell_type": "code",
      "source": [
        "\n",
        "def convert_to_seconds(duration):\n",
        "    parts = duration.split(' ')\n",
        "    hours=0\n",
        "    minutes=0\n",
        "\n",
        "    if len(parts)==2:\n",
        "     hours = int(parts[0][:-1])\n",
        "     minutes = int(parts[1][:-1])\n",
        "\n",
        "    elif len(parts)==1:\n",
        "     if \"h\" in parts:\n",
        "       hours = int(parts[0][:-1])\n",
        "     else:\n",
        "       minutes = int(parts[0][:-1])\n",
        "\n",
        "    return hours * 3600 + minutes * 60\n",
        "\n",
        "df['Duration_in_seconds'] = df['Duration'].apply(convert_to_seconds)\n",
        "\n",
        "df[\"Duration_in_seconds\"]"
      ],
      "metadata": {
        "colab": {
          "base_uri": "https://localhost:8080/"
        },
        "id": "mqjwm2NYIEvQ",
        "outputId": "643ea5b7-1d74-4ad5-f5d0-48418b7fd909"
      },
      "execution_count": null,
      "outputs": [
        {
          "output_type": "execute_result",
          "data": {
            "text/plain": [
              "0       95700\n",
              "1        1620\n",
              "2        5400\n",
              "3       54600\n",
              "4       30000\n",
              "        ...  \n",
              "9445    32100\n",
              "9446    30900\n",
              "9447    54900\n",
              "9448    43500\n",
              "9449    31500\n",
              "Name: Duration_in_seconds, Length: 9450, dtype: int64"
            ]
          },
          "metadata": {},
          "execution_count": 60
        }
      ]
    },
    {
      "cell_type": "markdown",
      "source": [
        "**Q6**  Transform the values in the 'dep_time' and 'arrival_time' columns to represent the hour component. For instance, if an entry is 10:05 June 13 or 10:05, the corresponding value should be 10.\n",
        "Then convert the time into four categories as follows:\n",
        "* 5 <= hour < 12 = Morning\n",
        "* 12 <= hour < 17 = Afternoon\n",
        "* 17 <= hour < 20 = Evening\n",
        "* 20 <= hour < 5 = Night\n",
        "\n",
        "Note: Please ensure that you make the changes directly within the dataset and continue to use that modified dataset for subsequent questions.\n",
        "\n",
        "``How many flights started in the Morning and arrived the destination at Evening?``"
      ],
      "metadata": {
        "id": "F4wM_u1nSwhX"
      }
    },
    {
      "cell_type": "code",
      "source": [
        "df[[\"Dep_Time\",\"Arrival_Time\"]]\n",
        "#  split with \":\" delimiter\n",
        "#  applyl condions = lable\n"
      ],
      "metadata": {
        "colab": {
          "base_uri": "https://localhost:8080/",
          "height": 423
        },
        "id": "QKB9HvM6SzTd",
        "outputId": "2b109eb8-5de0-453e-f29f-0d407165e30b"
      },
      "execution_count": null,
      "outputs": [
        {
          "output_type": "execute_result",
          "data": {
            "text/plain": [
              "     Dep_Time  Arrival_Time\n",
              "0       20:00  04:25 10 Jun\n",
              "1       16:00  19:00 10 Jun\n",
              "2       19:35         21:05\n",
              "3       18:55  01:30 16 Jun\n",
              "4       17:10         17:55\n",
              "...       ...           ...\n",
              "9445    19:30         19:50\n",
              "9446    17:00         21:00\n",
              "9447    07:05         19:45\n",
              "9448    08:20         19:50\n",
              "9449    14:30         23:15\n",
              "\n",
              "[9450 rows x 2 columns]"
            ],
            "text/html": [
              "\n",
              "  <div id=\"df-19fbb80b-d00b-4262-92fc-047bb1b282e4\" class=\"colab-df-container\">\n",
              "    <div>\n",
              "<style scoped>\n",
              "    .dataframe tbody tr th:only-of-type {\n",
              "        vertical-align: middle;\n",
              "    }\n",
              "\n",
              "    .dataframe tbody tr th {\n",
              "        vertical-align: top;\n",
              "    }\n",
              "\n",
              "    .dataframe thead th {\n",
              "        text-align: right;\n",
              "    }\n",
              "</style>\n",
              "<table border=\"1\" class=\"dataframe\">\n",
              "  <thead>\n",
              "    <tr style=\"text-align: right;\">\n",
              "      <th></th>\n",
              "      <th>Dep_Time</th>\n",
              "      <th>Arrival_Time</th>\n",
              "    </tr>\n",
              "  </thead>\n",
              "  <tbody>\n",
              "    <tr>\n",
              "      <th>0</th>\n",
              "      <td>20:00</td>\n",
              "      <td>04:25 10 Jun</td>\n",
              "    </tr>\n",
              "    <tr>\n",
              "      <th>1</th>\n",
              "      <td>16:00</td>\n",
              "      <td>19:00 10 Jun</td>\n",
              "    </tr>\n",
              "    <tr>\n",
              "      <th>2</th>\n",
              "      <td>19:35</td>\n",
              "      <td>21:05</td>\n",
              "    </tr>\n",
              "    <tr>\n",
              "      <th>3</th>\n",
              "      <td>18:55</td>\n",
              "      <td>01:30 16 Jun</td>\n",
              "    </tr>\n",
              "    <tr>\n",
              "      <th>4</th>\n",
              "      <td>17:10</td>\n",
              "      <td>17:55</td>\n",
              "    </tr>\n",
              "    <tr>\n",
              "      <th>...</th>\n",
              "      <td>...</td>\n",
              "      <td>...</td>\n",
              "    </tr>\n",
              "    <tr>\n",
              "      <th>9445</th>\n",
              "      <td>19:30</td>\n",
              "      <td>19:50</td>\n",
              "    </tr>\n",
              "    <tr>\n",
              "      <th>9446</th>\n",
              "      <td>17:00</td>\n",
              "      <td>21:00</td>\n",
              "    </tr>\n",
              "    <tr>\n",
              "      <th>9447</th>\n",
              "      <td>07:05</td>\n",
              "      <td>19:45</td>\n",
              "    </tr>\n",
              "    <tr>\n",
              "      <th>9448</th>\n",
              "      <td>08:20</td>\n",
              "      <td>19:50</td>\n",
              "    </tr>\n",
              "    <tr>\n",
              "      <th>9449</th>\n",
              "      <td>14:30</td>\n",
              "      <td>23:15</td>\n",
              "    </tr>\n",
              "  </tbody>\n",
              "</table>\n",
              "<p>9450 rows × 2 columns</p>\n",
              "</div>\n",
              "    <div class=\"colab-df-buttons\">\n",
              "\n",
              "  <div class=\"colab-df-container\">\n",
              "    <button class=\"colab-df-convert\" onclick=\"convertToInteractive('df-19fbb80b-d00b-4262-92fc-047bb1b282e4')\"\n",
              "            title=\"Convert this dataframe to an interactive table.\"\n",
              "            style=\"display:none;\">\n",
              "\n",
              "  <svg xmlns=\"http://www.w3.org/2000/svg\" height=\"24px\" viewBox=\"0 -960 960 960\">\n",
              "    <path d=\"M120-120v-720h720v720H120Zm60-500h600v-160H180v160Zm220 220h160v-160H400v160Zm0 220h160v-160H400v160ZM180-400h160v-160H180v160Zm440 0h160v-160H620v160ZM180-180h160v-160H180v160Zm440 0h160v-160H620v160Z\"/>\n",
              "  </svg>\n",
              "    </button>\n",
              "\n",
              "  <style>\n",
              "    .colab-df-container {\n",
              "      display:flex;\n",
              "      gap: 12px;\n",
              "    }\n",
              "\n",
              "    .colab-df-convert {\n",
              "      background-color: #E8F0FE;\n",
              "      border: none;\n",
              "      border-radius: 50%;\n",
              "      cursor: pointer;\n",
              "      display: none;\n",
              "      fill: #1967D2;\n",
              "      height: 32px;\n",
              "      padding: 0 0 0 0;\n",
              "      width: 32px;\n",
              "    }\n",
              "\n",
              "    .colab-df-convert:hover {\n",
              "      background-color: #E2EBFA;\n",
              "      box-shadow: 0px 1px 2px rgba(60, 64, 67, 0.3), 0px 1px 3px 1px rgba(60, 64, 67, 0.15);\n",
              "      fill: #174EA6;\n",
              "    }\n",
              "\n",
              "    .colab-df-buttons div {\n",
              "      margin-bottom: 4px;\n",
              "    }\n",
              "\n",
              "    [theme=dark] .colab-df-convert {\n",
              "      background-color: #3B4455;\n",
              "      fill: #D2E3FC;\n",
              "    }\n",
              "\n",
              "    [theme=dark] .colab-df-convert:hover {\n",
              "      background-color: #434B5C;\n",
              "      box-shadow: 0px 1px 3px 1px rgba(0, 0, 0, 0.15);\n",
              "      filter: drop-shadow(0px 1px 2px rgba(0, 0, 0, 0.3));\n",
              "      fill: #FFFFFF;\n",
              "    }\n",
              "  </style>\n",
              "\n",
              "    <script>\n",
              "      const buttonEl =\n",
              "        document.querySelector('#df-19fbb80b-d00b-4262-92fc-047bb1b282e4 button.colab-df-convert');\n",
              "      buttonEl.style.display =\n",
              "        google.colab.kernel.accessAllowed ? 'block' : 'none';\n",
              "\n",
              "      async function convertToInteractive(key) {\n",
              "        const element = document.querySelector('#df-19fbb80b-d00b-4262-92fc-047bb1b282e4');\n",
              "        const dataTable =\n",
              "          await google.colab.kernel.invokeFunction('convertToInteractive',\n",
              "                                                    [key], {});\n",
              "        if (!dataTable) return;\n",
              "\n",
              "        const docLinkHtml = 'Like what you see? Visit the ' +\n",
              "          '<a target=\"_blank\" href=https://colab.research.google.com/notebooks/data_table.ipynb>data table notebook</a>'\n",
              "          + ' to learn more about interactive tables.';\n",
              "        element.innerHTML = '';\n",
              "        dataTable['output_type'] = 'display_data';\n",
              "        await google.colab.output.renderOutput(dataTable, element);\n",
              "        const docLink = document.createElement('div');\n",
              "        docLink.innerHTML = docLinkHtml;\n",
              "        element.appendChild(docLink);\n",
              "      }\n",
              "    </script>\n",
              "  </div>\n",
              "\n",
              "\n",
              "<div id=\"df-1fe78cf4-b02a-4486-982d-adfe0d29dd81\">\n",
              "  <button class=\"colab-df-quickchart\" onclick=\"quickchart('df-1fe78cf4-b02a-4486-982d-adfe0d29dd81')\"\n",
              "            title=\"Suggest charts\"\n",
              "            style=\"display:none;\">\n",
              "\n",
              "<svg xmlns=\"http://www.w3.org/2000/svg\" height=\"24px\"viewBox=\"0 0 24 24\"\n",
              "     width=\"24px\">\n",
              "    <g>\n",
              "        <path d=\"M19 3H5c-1.1 0-2 .9-2 2v14c0 1.1.9 2 2 2h14c1.1 0 2-.9 2-2V5c0-1.1-.9-2-2-2zM9 17H7v-7h2v7zm4 0h-2V7h2v10zm4 0h-2v-4h2v4z\"/>\n",
              "    </g>\n",
              "</svg>\n",
              "  </button>\n",
              "\n",
              "<style>\n",
              "  .colab-df-quickchart {\n",
              "      --bg-color: #E8F0FE;\n",
              "      --fill-color: #1967D2;\n",
              "      --hover-bg-color: #E2EBFA;\n",
              "      --hover-fill-color: #174EA6;\n",
              "      --disabled-fill-color: #AAA;\n",
              "      --disabled-bg-color: #DDD;\n",
              "  }\n",
              "\n",
              "  [theme=dark] .colab-df-quickchart {\n",
              "      --bg-color: #3B4455;\n",
              "      --fill-color: #D2E3FC;\n",
              "      --hover-bg-color: #434B5C;\n",
              "      --hover-fill-color: #FFFFFF;\n",
              "      --disabled-bg-color: #3B4455;\n",
              "      --disabled-fill-color: #666;\n",
              "  }\n",
              "\n",
              "  .colab-df-quickchart {\n",
              "    background-color: var(--bg-color);\n",
              "    border: none;\n",
              "    border-radius: 50%;\n",
              "    cursor: pointer;\n",
              "    display: none;\n",
              "    fill: var(--fill-color);\n",
              "    height: 32px;\n",
              "    padding: 0;\n",
              "    width: 32px;\n",
              "  }\n",
              "\n",
              "  .colab-df-quickchart:hover {\n",
              "    background-color: var(--hover-bg-color);\n",
              "    box-shadow: 0 1px 2px rgba(60, 64, 67, 0.3), 0 1px 3px 1px rgba(60, 64, 67, 0.15);\n",
              "    fill: var(--button-hover-fill-color);\n",
              "  }\n",
              "\n",
              "  .colab-df-quickchart-complete:disabled,\n",
              "  .colab-df-quickchart-complete:disabled:hover {\n",
              "    background-color: var(--disabled-bg-color);\n",
              "    fill: var(--disabled-fill-color);\n",
              "    box-shadow: none;\n",
              "  }\n",
              "\n",
              "  .colab-df-spinner {\n",
              "    border: 2px solid var(--fill-color);\n",
              "    border-color: transparent;\n",
              "    border-bottom-color: var(--fill-color);\n",
              "    animation:\n",
              "      spin 1s steps(1) infinite;\n",
              "  }\n",
              "\n",
              "  @keyframes spin {\n",
              "    0% {\n",
              "      border-color: transparent;\n",
              "      border-bottom-color: var(--fill-color);\n",
              "      border-left-color: var(--fill-color);\n",
              "    }\n",
              "    20% {\n",
              "      border-color: transparent;\n",
              "      border-left-color: var(--fill-color);\n",
              "      border-top-color: var(--fill-color);\n",
              "    }\n",
              "    30% {\n",
              "      border-color: transparent;\n",
              "      border-left-color: var(--fill-color);\n",
              "      border-top-color: var(--fill-color);\n",
              "      border-right-color: var(--fill-color);\n",
              "    }\n",
              "    40% {\n",
              "      border-color: transparent;\n",
              "      border-right-color: var(--fill-color);\n",
              "      border-top-color: var(--fill-color);\n",
              "    }\n",
              "    60% {\n",
              "      border-color: transparent;\n",
              "      border-right-color: var(--fill-color);\n",
              "    }\n",
              "    80% {\n",
              "      border-color: transparent;\n",
              "      border-right-color: var(--fill-color);\n",
              "      border-bottom-color: var(--fill-color);\n",
              "    }\n",
              "    90% {\n",
              "      border-color: transparent;\n",
              "      border-bottom-color: var(--fill-color);\n",
              "    }\n",
              "  }\n",
              "</style>\n",
              "\n",
              "  <script>\n",
              "    async function quickchart(key) {\n",
              "      const quickchartButtonEl =\n",
              "        document.querySelector('#' + key + ' button');\n",
              "      quickchartButtonEl.disabled = true;  // To prevent multiple clicks.\n",
              "      quickchartButtonEl.classList.add('colab-df-spinner');\n",
              "      try {\n",
              "        const charts = await google.colab.kernel.invokeFunction(\n",
              "            'suggestCharts', [key], {});\n",
              "      } catch (error) {\n",
              "        console.error('Error during call to suggestCharts:', error);\n",
              "      }\n",
              "      quickchartButtonEl.classList.remove('colab-df-spinner');\n",
              "      quickchartButtonEl.classList.add('colab-df-quickchart-complete');\n",
              "    }\n",
              "    (() => {\n",
              "      let quickchartButtonEl =\n",
              "        document.querySelector('#df-1fe78cf4-b02a-4486-982d-adfe0d29dd81 button');\n",
              "      quickchartButtonEl.style.display =\n",
              "        google.colab.kernel.accessAllowed ? 'block' : 'none';\n",
              "    })();\n",
              "  </script>\n",
              "</div>\n",
              "\n",
              "    </div>\n",
              "  </div>\n"
            ],
            "application/vnd.google.colaboratory.intrinsic+json": {
              "type": "dataframe",
              "summary": "{\n  \"name\": \"df[[\\\"Dep_Time\\\",\\\"Arrival_Time\\\"]]\",\n  \"rows\": 9450,\n  \"fields\": [\n    {\n      \"column\": \"Dep_Time\",\n      \"properties\": {\n        \"dtype\": \"object\",\n        \"num_unique_values\": 217,\n        \"samples\": [\n          \"12:20\",\n          \"01:40\",\n          \"07:35\"\n        ],\n        \"semantic_type\": \"\",\n        \"description\": \"\"\n      }\n    },\n    {\n      \"column\": \"Arrival_Time\",\n      \"properties\": {\n        \"dtype\": \"object\",\n        \"num_unique_values\": 1084,\n        \"samples\": [\n          \"00:40 04 May\",\n          \"07:40\",\n          \"19:15 22 May\"\n        ],\n        \"semantic_type\": \"\",\n        \"description\": \"\"\n      }\n    }\n  ]\n}"
            }
          },
          "metadata": {},
          "execution_count": 65
        }
      ]
    },
    {
      "cell_type": "markdown",
      "source": [
        "**Q7** Encode the values of column 'WeekDay' as follows:\n",
        "- Weekends (Sunday, Saturday) = 1\n",
        "- all remaining five days = 0\n",
        "\n",
        "What is the most frequent (mode) WeekDay?"
      ],
      "metadata": {
        "id": "6HH_7wlPTEyL"
      }
    },
    {
      "cell_type": "code",
      "source": [
        "df_copy= df.copy()\n",
        "df_copy[\"Day\"]= np.where(df_copy[\"WeekDay\"].isin([\"Saturday\", \"Sunday\"]), 1, 0)\n",
        "print(df_copy[\"WeekDay\"].value_counts(),end=\"\\n \")\n",
        "\n",
        "# Wednesday is most frequent\n",
        "\n",
        "df_copy[\"WeekDay\"].isin([\"Sunday\",\"Saturday\"]).value_counts()\n",
        "\n",
        "\n",
        "#second method\n",
        "# print(\"weedays frequency \", ~df_copy[\"WeekDay\"].isin([\"Sunday\",\"Saturday\"]).sum());\n"
      ],
      "metadata": {
        "id": "yOeN9drhTyjw",
        "colab": {
          "base_uri": "https://localhost:8080/"
        },
        "outputId": "2b2d58ab-5f7e-40cf-e8ff-afe8332a72b0"
      },
      "execution_count": null,
      "outputs": [
        {
          "output_type": "stream",
          "name": "stdout",
          "text": [
            "Wednesday    1893\n",
            "Monday       1597\n",
            "Thursday     1590\n",
            "Saturday     1546\n",
            "Sunday       1253\n",
            "Friday        834\n",
            "Tuesday       737\n",
            "Name: WeekDay, dtype: int64\n",
            " "
          ]
        },
        {
          "output_type": "execute_result",
          "data": {
            "text/plain": [
              "False    6651\n",
              "True     2799\n",
              "Name: WeekDay, dtype: int64"
            ]
          },
          "metadata": {},
          "execution_count": 37
        }
      ]
    },
    {
      "cell_type": "code",
      "source": [
        "\n"
      ],
      "metadata": {
        "id": "_l3S-BkfitAx"
      },
      "execution_count": null,
      "outputs": []
    }
  ]
}